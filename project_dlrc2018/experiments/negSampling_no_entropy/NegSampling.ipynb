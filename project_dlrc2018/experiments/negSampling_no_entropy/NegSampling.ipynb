{
 "cells": [
  {
   "cell_type": "code",
   "execution_count": 1,
   "metadata": {
    "collapsed": true
   },
   "outputs": [],
   "source": [
    "import numpy as np"
   ]
  },
  {
   "cell_type": "code",
   "execution_count": 2,
   "metadata": {
    "collapsed": true
   },
   "outputs": [],
   "source": [
    "from sklearn.metrics import confusion_matrix"
   ]
  },
  {
   "cell_type": "code",
   "execution_count": 3,
   "metadata": {
    "collapsed": false
   },
   "outputs": [],
   "source": [
    "pred = np.load(\"./pred.npy\")\n",
    "lbl = np.load(\"lbl.npy\")"
   ]
  },
  {
   "cell_type": "code",
   "execution_count": 4,
   "metadata": {
    "collapsed": false
   },
   "outputs": [
    {
     "data": {
      "text/plain": [
       "0.95344444444444443"
      ]
     },
     "execution_count": 4,
     "metadata": {},
     "output_type": "execute_result"
    }
   ],
   "source": [
    "(pred == lbl).mean()"
   ]
  },
  {
   "cell_type": "code",
   "execution_count": null,
   "metadata": {
    "collapsed": true
   },
   "outputs": [],
   "source": []
  },
  {
   "cell_type": "code",
   "execution_count": 15,
   "metadata": {
    "collapsed": false
   },
   "outputs": [
    {
     "name": "stdout",
     "output_type": "stream",
     "text": [
      "lidar:  0\n",
      "[[ 0.948  0.002]\n",
      " [ 0.002  0.048]]\n",
      "n neg:  1900\n",
      "n pos:  100\n",
      "true neg rate (specificity):  0.997894736842\n",
      "true pos rate (sensitivity):  0.96\n",
      "IoU neg:  0.995798319328\n",
      "IoU pos:  0.923076923077\n",
      "F1:  0.96\n",
      "\n",
      "lidar:  1\n",
      "[[ 0.908  0.002]\n",
      " [ 0.06   0.03 ]]\n",
      "n neg:  1820\n",
      "n pos:  180\n",
      "true neg rate (specificity):  0.997802197802\n",
      "true pos rate (sensitivity):  0.333333333333\n",
      "IoU neg:  0.936082474227\n",
      "IoU pos:  0.326086956522\n",
      "F1:  0.491803278689\n",
      "\n",
      "lidar:  2\n",
      "[[ 0.9225  0.0075]\n",
      " [ 0.0545  0.0155]]\n",
      "n neg:  1860\n",
      "n pos:  140\n",
      "true neg rate (specificity):  0.991935483871\n",
      "true pos rate (sensitivity):  0.221428571429\n",
      "IoU neg:  0.937023869985\n",
      "IoU pos:  0.2\n",
      "F1:  0.333333333333\n",
      "\n",
      "lidar:  3\n",
      "[[ 0.9     0.01  ]\n",
      " [ 0.0395  0.0505]]\n",
      "n neg:  1820\n",
      "n pos:  180\n",
      "true neg rate (specificity):  0.989010989011\n",
      "true pos rate (sensitivity):  0.561111111111\n",
      "IoU neg:  0.947867298578\n",
      "IoU pos:  0.505\n",
      "F1:  0.671096345515\n",
      "\n",
      "lidar:  4\n",
      "[[ 0.943  0.007]\n",
      " [ 0.008  0.042]]\n",
      "n neg:  1900\n",
      "n pos:  100\n",
      "true neg rate (specificity):  0.992631578947\n",
      "true pos rate (sensitivity):  0.84\n",
      "IoU neg:  0.984342379958\n",
      "IoU pos:  0.736842105263\n",
      "F1:  0.848484848485\n",
      "\n",
      "lidar:  5\n",
      "[[ 0.91    0.005 ]\n",
      " [ 0.0025  0.0825]]\n",
      "n neg:  1830\n",
      "n pos:  170\n",
      "true neg rate (specificity):  0.994535519126\n",
      "true pos rate (sensitivity):  0.970588235294\n",
      "IoU neg:  0.991825613079\n",
      "IoU pos:  0.916666666667\n",
      "F1:  0.95652173913\n",
      "\n",
      "lidar:  6\n",
      "[[ 0.8875  0.0125]\n",
      " [ 0.078   0.022 ]]\n",
      "n neg:  1800\n",
      "n pos:  200\n",
      "true neg rate (specificity):  0.986111111111\n",
      "true pos rate (sensitivity):  0.22\n",
      "IoU neg:  0.907464212679\n",
      "IoU pos:  0.195555555556\n",
      "F1:  0.327137546468\n",
      "\n",
      "lidar:  7\n",
      "[[ 0.906   0.014 ]\n",
      " [ 0.0635  0.0165]]\n",
      "n neg:  1840\n",
      "n pos:  160\n",
      "true neg rate (specificity):  0.984782608696\n",
      "true pos rate (sensitivity):  0.20625\n",
      "IoU neg:  0.921199796645\n",
      "IoU pos:  0.175531914894\n",
      "F1:  0.298642533937\n",
      "\n",
      "lidar:  8\n",
      "[[ 0.8975  0.0125]\n",
      " [ 0.0385  0.0515]]\n",
      "n neg:  1820\n",
      "n pos:  180\n",
      "true neg rate (specificity):  0.986263736264\n",
      "true pos rate (sensitivity):  0.572222222222\n",
      "IoU neg:  0.94623089088\n",
      "IoU pos:  0.50243902439\n",
      "F1:  0.668831168831\n",
      "\n"
     ]
    }
   ],
   "source": [
    "for i in range(pred.shape[1]):\n",
    "    print(\"lidar: \", i)\n",
    "    tn, fp, fn, tp = confusion_matrix(lbl[:,i], pred[:,i]).ravel()\n",
    "    \n",
    "    c = confusion_matrix(lbl[:,i], pred[:,i]) / 2000\n",
    "    print(c)\n",
    "    \n",
    "    print(\"n neg: \",    tn + fp)\n",
    "    print(\"n pos: \",    tp + fn)\n",
    "    print(\"true neg rate (specificity): \", tn / (tn + fp))\n",
    "    print(\"true pos rate (sensitivity): \", tp / (tp + fn))\n",
    "    print(\"IoU neg: \",  tn / (tn + fn + fp))\n",
    "    print(\"IoU pos: \",  tp / (tp + fn + fp))\n",
    "    print(\"F1: \",  2*tp / (2*tp + fn + fp))\n",
    "    print()"
   ]
  }
 ],
 "metadata": {
  "anaconda-cloud": {},
  "kernelspec": {
   "display_name": "Python [conda env:anaconda3]",
   "language": "python",
   "name": "conda-env-anaconda3-py"
  },
  "language_info": {
   "codemirror_mode": {
    "name": "ipython",
    "version": 3
   },
   "file_extension": ".py",
   "mimetype": "text/x-python",
   "name": "python",
   "nbconvert_exporter": "python",
   "pygments_lexer": "ipython3",
   "version": "3.5.4"
  }
 },
 "nbformat": 4,
 "nbformat_minor": 2
}
