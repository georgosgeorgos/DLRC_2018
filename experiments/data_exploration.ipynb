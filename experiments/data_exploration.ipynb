{
 "cells": [
  {
   "cell_type": "code",
   "execution_count": null,
   "metadata": {},
   "outputs": [],
   "source": [
    "import matplotlib.pyplot as plt\n",
    "import seaborn as sns\n",
    "import numpy as np\n",
    "import pandas as pd\n",
    "sns.set(style=\"darkgrid\")\n",
    "from matplotlib import gridspec\n",
    "import matplotlib.cm as cm\n",
    "import warnings\n",
    "import os.path as osp\n",
    "from mpl_toolkits import mplot3d\n",
    "\n",
    "warnings.filterwarnings(action='once')\n",
    "print(sns.__version__, pd.__version__, np.__version__)"
   ]
  },
  {
   "cell_type": "code",
   "execution_count": null,
   "metadata": {},
   "outputs": [],
   "source": [
    "def draw_corr_matrix(X, out_path, name):\n",
    "    fig = plt.figure(figsize=(9,7))\n",
    "    cov = np.corrcoef(X.T)\n",
    "    sns.heatmap(cov);\n",
    "    plt.title('correlation matrix')\n",
    "    plt.savefig(osp.join(out_path, 'corr_matrix_trajectory_{}.png'.format(name)), format='png')\n",
    "    plt.show()\n",
    "    plt.close()"
   ]
  },
  {
   "cell_type": "code",
   "execution_count": null,
   "metadata": {},
   "outputs": [],
   "source": [
    "def draw_trajectory(X, out_path, name):\n",
    "    fig = plt.figure(figsize=(10, 7))\n",
    "    ax = plt.axes(projection='3d')\n",
    "    ax.plot3D(X[:, 0], X[:, 1], X[:, 2], 'grey');\n",
    "    ax.scatter3D(X[0, 0], X[0, 1], X[0, 2], color='green', marker='^', s=120, label='start');\n",
    "    ax.scatter3D(X[-1, 0], X[-1, 1], X[-1, 2], color='darkred', marker='o', s=120, label='end');\n",
    "    ax.set_xlabel('X')\n",
    "    ax.set_ylabel('Y')\n",
    "    ax.set_zlabel('Z')\n",
    "    fig.legend()\n",
    "    plt.savefig(osp.join(out_path, 'trajectory_{}.png'.format(name)), format='png')\n",
    "    plt.show()\n",
    "    plt.close()"
   ]
  },
  {
   "cell_type": "code",
   "execution_count": null,
   "metadata": {},
   "outputs": [],
   "source": [
    "def draw_jointplot(X, out_path, name):\n",
    "    num_samples, num_channels = X.shape\n",
    "    colors = cm.viridis(np.linspace(0, 1, num_channels))\n",
    "    fig = plt.figure(figsize=(20, 5*num_channels))\n",
    "\n",
    "    for idx in range(num_channels):\n",
    "        x = idx % num_channels\n",
    "        y = idx % 1\n",
    "        gs = gridspec.GridSpec(num_channels, 2, width_ratios=[5, 1])\n",
    "        ax0 = plt.subplot(gs[x, y])\n",
    "        plt.xlabel('time')\n",
    "        plt.ylabel('distance')\n",
    "        ax0.plot(t, X[:, idx], color=colors[idx])\n",
    "\n",
    "        ax1 = plt.subplot(gs[x, y+1])\n",
    "        vert_hist = np.histogram(X[:, idx])\n",
    "        sns.distplot(X[:, idx], ax=ax1, bins=15, vertical=True, hist_kws={\"color\": colors[idx]}, kde_kws={\"color\": colors[idx], \"lw\": 3})\n",
    "        plt.xlabel('frequency')\n",
    "    plt.tight_layout()\n",
    "    plt.savefig(osp.join(out_path, 'timeseries_channels_trajectory_{}.png'.format(name)), format='png')\n",
    "    plt.show()\n",
    "    plt.close()"
   ]
  },
  {
   "cell_type": "code",
   "execution_count": null,
   "metadata": {
    "scrolled": false
   },
   "outputs": [],
   "source": [
    "### TESTING...\n",
    "idx_trajectory = 0\n",
    "min_depth, max_depth = 14, 2000\n",
    "raw = np.load('../../src/data_5_min_static{}.pkl'.format(idx_trajectory))\n",
    "data = raw[0][\"lidar\"][\"measure\"]\n",
    "data = np.array(data)\n",
    "num_samples, num_channels = data.shape\n",
    "X = data[:, :]\n",
    "# clip to min and max\n",
    "X[X >= max_depth] = max_depth\n",
    "X[X <= min_depth] = min_depth\n",
    "t = np.arange(num_samples)\n",
    "# trajectory = np.load('random_data/trajectory{}.npy'.format(idx_trajectory))\n",
    "draw_jointplot(X, out_path='../05_cvae', name=idx_trajectory)\n",
    "draw_corr_matrix(X, out_path='../05_cvae', name=idx_trajectory)\n",
    "print('frequency: {}'.format(len(X) / 300))"
   ]
  },
  {
   "cell_type": "code",
   "execution_count": null,
   "metadata": {
    "scrolled": false
   },
   "outputs": [],
   "source": [
    "draw_trajectory(trajectory, out_path='experiments/03_visualize_channels', name=idx_trajectory)"
   ]
  },
  {
   "cell_type": "code",
   "execution_count": null,
   "metadata": {
    "scrolled": false
   },
   "outputs": [],
   "source": [
    "### SAVE ALL\n",
    "num_trajectories = 10\n",
    "for idx_trajectory in range(10):\n",
    "    raw = np.load('random_data/lidar_{}.npy'.format(idx_trajectory))\n",
    "    num_samples, num_channels = raw.shape\n",
    "    X = raw[:, :]\n",
    "    # clip to min and max\n",
    "    X[X >= max_depth] = max_depth\n",
    "    X[X <= min_depth] = min_depth\n",
    "    t = np.arange(num_samples)\n",
    "    trajectory = np.load('random_data/trajectory{}.npy'.format(idx_trajectory))\n",
    "    print(X.shape, trajectory.shape)\n",
    "    draw_jointplot(X, out_path='experiments/03_visualize_channels', name=idx_trajectory)\n",
    "    draw_corr_matrix(X, out_path='experiments/03_visualize_channels', name=idx_trajectory)\n",
    "    draw_trajectory(trajectory, out_path='experiments/03_visualize_channels', name=idx_trajectory)"
   ]
  },
  {
   "cell_type": "code",
   "execution_count": null,
   "metadata": {},
   "outputs": [],
   "source": []
  }
 ],
 "metadata": {
  "kernelspec": {
   "display_name": "Python 3",
   "language": "python",
   "name": "python3"
  },
  "language_info": {
   "codemirror_mode": {
    "name": "ipython",
    "version": 3
   },
   "file_extension": ".py",
   "mimetype": "text/x-python",
   "name": "python",
   "nbconvert_exporter": "python",
   "pygments_lexer": "ipython3",
   "version": "3.6.5"
  }
 },
 "nbformat": 4,
 "nbformat_minor": 2
}
