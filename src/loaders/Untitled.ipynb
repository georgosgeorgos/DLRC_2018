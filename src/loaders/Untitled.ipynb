{
 "cells": [
  {
   "cell_type": "code",
   "execution_count": 6,
   "metadata": {
    "collapsed": true
   },
   "outputs": [],
   "source": [
    "import pickle as pkl\n",
    "import numpy as np"
   ]
  },
  {
   "cell_type": "code",
   "execution_count": 3,
   "metadata": {
    "collapsed": false
   },
   "outputs": [],
   "source": [
    "with open(\"../../data/train_data_correct.pkl\", \"rb\") as f:\n",
    "    data = pkl.load(f)"
   ]
  },
  {
   "cell_type": "code",
   "execution_count": 7,
   "metadata": {
    "collapsed": false
   },
   "outputs": [],
   "source": [
    "runs = len(data)\n",
    "data_lidar   = []\n",
    "data_joint   = []\n",
    "data_joint_v = []\n",
    "for i in range(runs):       \n",
    "    data_lidar.extend(data[i][\"lidar\"][\"measurements\"])\n",
    "    data_joint.extend(data[i][\"state\"][\"j_pos\"])\n",
    "    data_joint_v.extend(data[i][\"state\"][\"j_vel\"])\n",
    "\n",
    "data_lidar = np.array(data_lidar, dtype=float)\n",
    "data_lidar /= 1000\n",
    "data_lidar[data_lidar > 2.0] = 2.0\n",
    "\n",
    "data_joint = np.array(data_joint, dtype=float)\n",
    "data_joint_v = np.array(data_joint_v, dtype=float)"
   ]
  },
  {
   "cell_type": "code",
   "execution_count": 8,
   "metadata": {
    "collapsed": false
   },
   "outputs": [
    {
     "data": {
      "text/plain": [
       "array([[ 2.   ,  0.821,  0.104, ...,  1.178,  2.   ,  1.061],\n",
       "       [ 2.   ,  0.818,  0.045, ...,  1.146,  2.   ,  2.   ],\n",
       "       [ 2.   ,  0.84 ,  2.   , ...,  1.174,  2.   ,  2.   ],\n",
       "       ..., \n",
       "       [ 2.   ,  2.   ,  0.837, ...,  1.015,  0.638,  0.817],\n",
       "       [ 2.   ,  2.   ,  0.763, ...,  1.   ,  0.682,  0.814],\n",
       "       [ 2.   ,  2.   ,  0.812, ...,  0.992,  0.781,  0.803]])"
      ]
     },
     "execution_count": 8,
     "metadata": {},
     "output_type": "execute_result"
    }
   ],
   "source": [
    "data_lidar"
   ]
  },
  {
   "cell_type": "code",
   "execution_count": 36,
   "metadata": {
    "collapsed": true
   },
   "outputs": [],
   "source": [
    "def generate_collision_labels(y, p=0.3, t=0.040, n_sample_y=10):\n",
    "    cols = [i for i in range(y.shape[1])]\n",
    "    np.random.seed()\n",
    "    labels = np.zeros(y.shape, dtype=int)\n",
    "    row = 0\n",
    "    for i in range(0, y.shape[0], 10):\n",
    "        if np.random.random() < p:\n",
    "            index=np.random.choice(cols, np.random.randint(1, y.shape[1]//2), replace=False)\n",
    "            y[(n_sample_y*i):(n_sample_y*(i+1)), index] = 10 #np.random.random((y.shape[0], len(index))) * 2 #(1 + 0.1 * np.random.randn(index.shape[0])) * t\n",
    "        else:\n",
    "            index=[]\n",
    "        labels[(n_sample_y*i):(n_sample_y*(i+1)), index] = 1\n",
    "    return y, labels"
   ]
  },
  {
   "cell_type": "code",
   "execution_count": 37,
   "metadata": {
    "collapsed": true
   },
   "outputs": [],
   "source": [
    "y, l = generate_collision_labels(data_lidar)"
   ]
  },
  {
   "cell_type": "code",
   "execution_count": 40,
   "metadata": {
    "collapsed": false
   },
   "outputs": [
    {
     "data": {
      "text/plain": [
       "650"
      ]
     },
     "execution_count": 40,
     "metadata": {},
     "output_type": "execute_result"
    }
   ],
   "source": [
    "len(y[y == 10])"
   ]
  },
  {
   "cell_type": "code",
   "execution_count": 41,
   "metadata": {
    "collapsed": false
   },
   "outputs": [
    {
     "data": {
      "text/plain": [
       "650"
      ]
     },
     "execution_count": 41,
     "metadata": {},
     "output_type": "execute_result"
    }
   ],
   "source": [
    "l.sum()"
   ]
  }
 ],
 "metadata": {
  "anaconda-cloud": {},
  "kernelspec": {
   "display_name": "Python [conda env:anaconda3]",
   "language": "python",
   "name": "conda-env-anaconda3-py"
  },
  "language_info": {
   "codemirror_mode": {
    "name": "ipython",
    "version": 3
   },
   "file_extension": ".py",
   "mimetype": "text/x-python",
   "name": "python",
   "nbconvert_exporter": "python",
   "pygments_lexer": "ipython3",
   "version": "3.5.4"
  }
 },
 "nbformat": 4,
 "nbformat_minor": 2
}
