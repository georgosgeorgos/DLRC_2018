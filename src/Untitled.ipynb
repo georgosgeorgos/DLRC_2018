{
 "cells": [
  {
   "cell_type": "code",
   "execution_count": 10,
   "metadata": {
    "collapsed": true
   },
   "outputs": [],
   "source": [
    "import numpy as np"
   ]
  },
  {
   "cell_type": "code",
   "execution_count": 11,
   "metadata": {
    "collapsed": true
   },
   "outputs": [],
   "source": [
    "from sklearn.metrics import confusion_matrix"
   ]
  },
  {
   "cell_type": "code",
   "execution_count": 13,
   "metadata": {
    "collapsed": false
   },
   "outputs": [],
   "source": [
    "pred = np.load(\"./pred.npy\")\n",
    "lbl = np.load(\"lbl.npy\")"
   ]
  },
  {
   "cell_type": "code",
   "execution_count": 38,
   "metadata": {
    "collapsed": false
   },
   "outputs": [
    {
     "data": {
      "text/plain": [
       "0.95344444444444443"
      ]
     },
     "execution_count": 38,
     "metadata": {},
     "output_type": "execute_result"
    }
   ],
   "source": [
    "(pred == lbl).mean()"
   ]
  },
  {
   "cell_type": "code",
   "execution_count": 45,
   "metadata": {
    "collapsed": false
   },
   "outputs": [
    {
     "name": "stdout",
     "output_type": "stream",
     "text": [
      "lidar:  0\n",
      "n neg:  1900\n",
      "n pos:  100\n",
      "IoU neg:  0.995798319328\n",
      "IoU pos:  0.923076923077\n",
      "\n",
      "lidar:  1\n",
      "n neg:  1820\n",
      "n pos:  180\n",
      "IoU neg:  0.936082474227\n",
      "IoU pos:  0.326086956522\n",
      "\n",
      "lidar:  2\n",
      "n neg:  1860\n",
      "n pos:  140\n",
      "IoU neg:  0.937023869985\n",
      "IoU pos:  0.2\n",
      "\n",
      "lidar:  3\n",
      "n neg:  1820\n",
      "n pos:  180\n",
      "IoU neg:  0.947867298578\n",
      "IoU pos:  0.505\n",
      "\n",
      "lidar:  4\n",
      "n neg:  1900\n",
      "n pos:  100\n",
      "IoU neg:  0.984342379958\n",
      "IoU pos:  0.736842105263\n",
      "\n",
      "lidar:  5\n",
      "n neg:  1830\n",
      "n pos:  170\n",
      "IoU neg:  0.991825613079\n",
      "IoU pos:  0.916666666667\n",
      "\n",
      "lidar:  6\n",
      "n neg:  1800\n",
      "n pos:  200\n",
      "IoU neg:  0.907464212679\n",
      "IoU pos:  0.195555555556\n",
      "\n",
      "lidar:  7\n",
      "n neg:  1840\n",
      "n pos:  160\n",
      "IoU neg:  0.921199796645\n",
      "IoU pos:  0.175531914894\n",
      "\n",
      "lidar:  8\n",
      "n neg:  1820\n",
      "n pos:  180\n",
      "IoU neg:  0.94623089088\n",
      "IoU pos:  0.50243902439\n",
      "\n"
     ]
    }
   ],
   "source": [
    "for i in range(pred.shape[1]):\n",
    "    print(\"lidar: \", i)\n",
    "    c = confusion_matrix(pred[:,i] , lbl[:,i])\n",
    "    print(\"n neg: \", c[:,0].sum())\n",
    "    print(\"n pos: \", c[:,1].sum())\n",
    "    print(\"IoU neg: \", c[0,0] / (c[0,0] + c[0,1] + c[1,0]))\n",
    "    print(\"IoU pos: \", c[1,1] / (c[1,1] + c[0,1] + c[1,0]))\n",
    "    print()"
   ]
  },
  {
   "cell_type": "code",
   "execution_count": 17,
   "metadata": {
    "collapsed": false
   },
   "outputs": [
    {
     "ename": "ValueError",
     "evalue": "multilabel-indicator is not supported",
     "output_type": "error",
     "traceback": [
      "\u001b[0;31m--------------------------------------------------------------------------\u001b[0m",
      "\u001b[0;31mValueError\u001b[0m                               Traceback (most recent call last)",
      "\u001b[0;32m<ipython-input-17-8f92312c48c3>\u001b[0m in \u001b[0;36m<module>\u001b[0;34m()\u001b[0m\n\u001b[0;32m----> 1\u001b[0;31m \u001b[0mconfusion_matrix\u001b[0m\u001b[0;34m(\u001b[0m\u001b[0mpred\u001b[0m \u001b[0;34m,\u001b[0m\u001b[0mlbl\u001b[0m\u001b[0;34m)\u001b[0m\u001b[0;34m\u001b[0m\u001b[0m\n\u001b[0m",
      "\u001b[0;32m/home/georgos/anaconda3/lib/python3.5/site-packages/sklearn/metrics/classification.py\u001b[0m in \u001b[0;36mconfusion_matrix\u001b[0;34m(y_true, y_pred, labels, sample_weight)\u001b[0m\n\u001b[1;32m    250\u001b[0m     \u001b[0my_type\u001b[0m\u001b[0;34m,\u001b[0m \u001b[0my_true\u001b[0m\u001b[0;34m,\u001b[0m \u001b[0my_pred\u001b[0m \u001b[0;34m=\u001b[0m \u001b[0m_check_targets\u001b[0m\u001b[0;34m(\u001b[0m\u001b[0my_true\u001b[0m\u001b[0;34m,\u001b[0m \u001b[0my_pred\u001b[0m\u001b[0;34m)\u001b[0m\u001b[0;34m\u001b[0m\u001b[0m\n\u001b[1;32m    251\u001b[0m     \u001b[0;32mif\u001b[0m \u001b[0my_type\u001b[0m \u001b[0;32mnot\u001b[0m \u001b[0;32min\u001b[0m \u001b[0;34m(\u001b[0m\u001b[0;34m\"binary\"\u001b[0m\u001b[0;34m,\u001b[0m \u001b[0;34m\"multiclass\"\u001b[0m\u001b[0;34m)\u001b[0m\u001b[0;34m:\u001b[0m\u001b[0;34m\u001b[0m\u001b[0m\n\u001b[0;32m--> 252\u001b[0;31m         \u001b[0;32mraise\u001b[0m \u001b[0mValueError\u001b[0m\u001b[0;34m(\u001b[0m\u001b[0;34m\"%s is not supported\"\u001b[0m \u001b[0;34m%\u001b[0m \u001b[0my_type\u001b[0m\u001b[0;34m)\u001b[0m\u001b[0;34m\u001b[0m\u001b[0m\n\u001b[0m\u001b[1;32m    253\u001b[0m \u001b[0;34m\u001b[0m\u001b[0m\n\u001b[1;32m    254\u001b[0m     \u001b[0;32mif\u001b[0m \u001b[0mlabels\u001b[0m \u001b[0;32mis\u001b[0m \u001b[0;32mNone\u001b[0m\u001b[0;34m:\u001b[0m\u001b[0;34m\u001b[0m\u001b[0m\n",
      "\u001b[0;31mValueError\u001b[0m: multilabel-indicator is not supported"
     ]
    }
   ],
   "source": [
    "confusion_matrix(pred , lbl)"
   ]
  },
  {
   "cell_type": "code",
   "execution_count": null,
   "metadata": {
    "collapsed": true
   },
   "outputs": [],
   "source": []
  },
  {
   "cell_type": "code",
   "execution_count": null,
   "metadata": {
    "collapsed": true
   },
   "outputs": [],
   "source": []
  },
  {
   "cell_type": "code",
   "execution_count": null,
   "metadata": {
    "collapsed": true
   },
   "outputs": [],
   "source": []
  }
 ],
 "metadata": {
  "anaconda-cloud": {},
  "kernelspec": {
   "display_name": "Python [conda env:anaconda3]",
   "language": "python",
   "name": "conda-env-anaconda3-py"
  },
  "language_info": {
   "codemirror_mode": {
    "name": "ipython",
    "version": 3
   },
   "file_extension": ".py",
   "mimetype": "text/x-python",
   "name": "python",
   "nbconvert_exporter": "python",
   "pygments_lexer": "ipython3",
   "version": "3.5.4"
  }
 },
 "nbformat": 4,
 "nbformat_minor": 2
}
